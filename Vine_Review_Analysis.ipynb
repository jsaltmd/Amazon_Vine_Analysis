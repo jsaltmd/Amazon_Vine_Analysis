{
  "nbformat": 4,
  "nbformat_minor": 0,
  "metadata": {
    "colab": {
      "name": "Vine_Review_Analysis.ipynb",
      "provenance": [],
      "collapsed_sections": []
    },
    "kernelspec": {
      "name": "python3",
      "display_name": "Python 3"
    }
  },
  "cells": [
    {
      "cell_type": "code",
      "metadata": {
        "colab": {
          "base_uri": "https://localhost:8080/"
        },
        "id": "Rv_XtETc4mfR",
        "outputId": "83e04104-5c79-4142-e664-0ff233e07263"
      },
      "source": [
        "import os\n",
        "# Find the latest version of spark 2.0  from http://www-us.apache.org/dist/spark/ and enter as the spark version\n",
        "# For example:\n",
        "# spark_version = 'spark-3.0.0'\n",
        "spark_version = 'spark-3.0.1'\n",
        "os.environ['SPARK_VERSION']=spark_version\n",
        "\n",
        "# Install Spark and Java\n",
        "!apt-get update\n",
        "!apt-get install openjdk-11-jdk-headless -qq > /dev/null\n",
        "!wget -q http://www-us.apache.org/dist/spark/$SPARK_VERSION/$SPARK_VERSION-bin-hadoop2.7.tgz\n",
        "!tar xf $SPARK_VERSION-bin-hadoop2.7.tgz\n",
        "!pip install -q findspark\n",
        "\n",
        "# Set Environment Variables\n",
        "import os\n",
        "os.environ[\"JAVA_HOME\"] = \"/usr/lib/jvm/java-11-openjdk-amd64\"\n",
        "os.environ[\"SPARK_HOME\"] = f\"/content/{spark_version}-bin-hadoop2.7\"\n",
        "\n",
        "# Start a SparkSession\n",
        "import findspark\n",
        "findspark.init()"
      ],
      "execution_count": 2,
      "outputs": [
        {
          "output_type": "stream",
          "text": [
            "Get:1 https://cloud.r-project.org/bin/linux/ubuntu bionic-cran40/ InRelease [3,626 B]\n",
            "Ign:2 https://developer.download.nvidia.com/compute/cuda/repos/ubuntu1804/x86_64  InRelease\n",
            "Ign:3 https://developer.download.nvidia.com/compute/machine-learning/repos/ubuntu1804/x86_64  InRelease\n",
            "Hit:4 https://developer.download.nvidia.com/compute/cuda/repos/ubuntu1804/x86_64  Release\n",
            "Get:5 http://ppa.launchpad.net/c2d4u.team/c2d4u4.0+/ubuntu bionic InRelease [15.9 kB]\n",
            "Hit:6 https://developer.download.nvidia.com/compute/machine-learning/repos/ubuntu1804/x86_64  Release\n",
            "Get:8 http://security.ubuntu.com/ubuntu bionic-security InRelease [88.7 kB]\n",
            "Hit:9 http://archive.ubuntu.com/ubuntu bionic InRelease\n",
            "Get:11 http://archive.ubuntu.com/ubuntu bionic-updates InRelease [88.7 kB]\n",
            "Hit:12 http://ppa.launchpad.net/cran/libgit2/ubuntu bionic InRelease\n",
            "Hit:13 http://ppa.launchpad.net/graphics-drivers/ppa/ubuntu bionic InRelease\n",
            "Get:14 http://archive.ubuntu.com/ubuntu bionic-backports InRelease [74.6 kB]\n",
            "Get:15 http://ppa.launchpad.net/c2d4u.team/c2d4u4.0+/ubuntu bionic/main Sources [1,716 kB]\n",
            "Get:16 http://archive.ubuntu.com/ubuntu bionic-updates/universe amd64 Packages [2,149 kB]\n",
            "Get:17 http://ppa.launchpad.net/c2d4u.team/c2d4u4.0+/ubuntu bionic/main amd64 Packages [878 kB]\n",
            "Fetched 5,015 kB in 6s (900 kB/s)\n",
            "Reading package lists... Done\n"
          ],
          "name": "stdout"
        }
      ]
    },
    {
      "cell_type": "code",
      "metadata": {
        "colab": {
          "base_uri": "https://localhost:8080/"
        },
        "id": "gxEYu-gN5L6P",
        "outputId": "6ec9ce41-99ca-48e5-89c8-dcf6f77c820c"
      },
      "source": [
        "# Download the Postgres driver that will allow Spark to interact with Postgres.\n",
        "!wget https://jdbc.postgresql.org/download/postgresql-42.2.16.jar"
      ],
      "execution_count": 3,
      "outputs": [
        {
          "output_type": "stream",
          "text": [
            "--2021-01-24 02:04:13--  https://jdbc.postgresql.org/download/postgresql-42.2.16.jar\n",
            "Resolving jdbc.postgresql.org (jdbc.postgresql.org)... 72.32.157.228, 2001:4800:3e1:1::228\n",
            "Connecting to jdbc.postgresql.org (jdbc.postgresql.org)|72.32.157.228|:443... connected.\n",
            "HTTP request sent, awaiting response... 200 OK\n",
            "Length: 1002883 (979K) [application/java-archive]\n",
            "Saving to: ‘postgresql-42.2.16.jar’\n",
            "\n",
            "postgresql-42.2.16. 100%[===================>] 979.38K  1.21MB/s    in 0.8s    \n",
            "\n",
            "2021-01-24 02:04:15 (1.21 MB/s) - ‘postgresql-42.2.16.jar’ saved [1002883/1002883]\n",
            "\n"
          ],
          "name": "stdout"
        }
      ]
    },
    {
      "cell_type": "code",
      "metadata": {
        "id": "VL_3P6ty5x6M"
      },
      "source": [
        "from pyspark.sql import SparkSession\n",
        "spark = SparkSession.builder.appName(\"Vine_Review_Analysis\").config(\"spark.driver.extraClassPath\",\"/content/postgresql-42.2.16.jar\").getOrCreate()"
      ],
      "execution_count": 4,
      "outputs": []
    },
    {
      "cell_type": "code",
      "metadata": {
        "colab": {
          "base_uri": "https://localhost:8080/"
        },
        "id": "LVghG4jB6J1G",
        "outputId": "cf14c985-a18f-408d-db54-42cc701953ba"
      },
      "source": [
        "from pyspark import SparkFiles\n",
        "url = \"https://s3.amazonaws.com/amazon-reviews-pds/tsv/amazon_reviews_us_Outdoors_v1_00.tsv.gz\"\n",
        "spark.sparkContext.addFile(url)\n",
        "df = spark.read.option(\"encoding\", \"UTF-8\").csv(SparkFiles.get(\"amazon_reviews_us_Outdoors_v1_00.tsv.gz\"), sep=\"\\t\", header=True, inferSchema=True)\n",
        "df.show()"
      ],
      "execution_count": 5,
      "outputs": [
        {
          "output_type": "stream",
          "text": [
            "+-----------+-----------+--------------+----------+--------------+--------------------+----------------+-----------+-------------+-----------+----+-----------------+--------------------+--------------------+-----------+\n",
            "|marketplace|customer_id|     review_id|product_id|product_parent|       product_title|product_category|star_rating|helpful_votes|total_votes|vine|verified_purchase|     review_headline|         review_body|review_date|\n",
            "+-----------+-----------+--------------+----------+--------------+--------------------+----------------+-----------+-------------+-----------+----+-----------------+--------------------+--------------------+-----------+\n",
            "|         US|   18446823|R35T75OLUGHL5C|B000NV6H94|     110804376|Stearns Youth Boa...|        Outdoors|          4|            0|          0|   N|                Y|          Four Stars|          GOOD VALUE| 2015-08-31|\n",
            "|         US|   13724367|R2BV735O46BN33|B000IN0W3Y|     624096774|Primal Wear Men's...|        Outdoors|          5|            0|          0|   N|                Y|          Five Stars|  Excellent quality.| 2015-08-31|\n",
            "|         US|   51001958|R2NBEUGPQQGXP1|B008RBJXFM|     278970944|Osprey Hydraulics...|        Outdoors|          4|            0|          0|   N|                Y|Only Flaw Is The Cap|3rd season using ...| 2015-08-31|\n",
            "|         US|   32866903|R17LLAOJ8ITK0S|B00FK8WUQY|     312877650|CamelBak eddy .75...|        Outdoors|          3|            1|          1|   N|                Y|Poor design leads...|poor construction...| 2015-08-31|\n",
            "|         US|   30907790|R39PEQBT5ISEF4|B00EZA3VW0|     305567912|Children Black Re...|        Outdoors|          1|            0|          0|   N|                Y|Very bad quality,...|Very bad quality,...| 2015-08-31|\n",
            "|         US|   20232229|R3GNM3SU9VHJFT|B006JA8WEG|     842306035|Ibera Bicycle Tri...|        Outdoors|          4|            1|          1|   N|                Y|Nice bag. Should ...|Nice bag. Should ...| 2015-08-31|\n",
            "|         US|   17698862| R2Y81OP0EK467|B002PWFSEO|     451480122|Therm-a-Rest Comp...|        Outdoors|          5|            0|          0|   N|                Y|Very comfortable ...|Gave this to my s...| 2015-08-31|\n",
            "|         US|   38486114|R2LFGSI6HAYH5F|B002DZGKHW|     124386306|Sawyer Products P...|        Outdoors|          5|            1|          1|   N|                Y| Worked like a charm|Went on vacation ...| 2015-08-31|\n",
            "|         US|   26319572|R297G6ED1IQO7W|B00ABA08F6|     991442421|Zippo Hand Warmer...|        Outdoors|          5|            1|          1|   N|                Y|Great item. Gets ...|Great item. Gets ...| 2015-08-31|\n",
            "|         US|   27152337| RE27RFC6101N6|B003Z8WIHC|     886483892|Camp Chef Dutch O...|        Outdoors|          5|            0|          0|   N|                Y|Great value for t...|I am so glad I bo...| 2015-08-31|\n",
            "|         US|   12516845|R3BPDME6E94W8Z|B007CP6UK0|     150224054|3CERA Portable Wi...|        Outdoors|          5|            0|          0|   N|                Y|          Five Stars|        good to have| 2015-08-31|\n",
            "|         US|    3225242|R2P08O1RILUOX3|B003V3U9JK|     343847969|Texsport King Kot...|        Outdoors|          3|            0|          0|   N|                Y|Cot set up inconv...|VERY difficult to...| 2015-08-31|\n",
            "|         US|     961839|R37CVAB03PTDVI|B00Y846HN8|     858088629|Wallygadgets 2 Wh...|        Outdoors|          5|            0|          1|   N|                Y|          Five Stars|Thanks excellent ...| 2015-08-31|\n",
            "|         US|   47796452| RAWNWOGXPCPMD|B00IYQ84VY|     474493517|RainStoppers 34-I...|        Outdoors|          5|            0|          0|   N|                Y|          Five Stars|This umbrella is ...| 2015-08-31|\n",
            "|         US|   32004835| R5DYGP6ASX77M|B002MYCKLY|     920014456|Alpha Deluxe Port...|        Outdoors|          5|            0|          0|   N|                Y|          Five Stars|Love it !! I even...| 2015-08-31|\n",
            "|         US|   23972939|R1O0SAOOGF2KG7|B00EZV69JG|     128489321|Speedfil Z4 BTA B...|        Outdoors|          4|            0|          0|   N|                Y|        Good enough.|This is a fine mo...| 2015-08-31|\n",
            "|         US|   40889047|R35NJUT0U3MU3V|B00AWOT3T8|     571303876|O'Brien Kids Plat...|        Outdoors|          5|            0|          0|   N|                Y| Got Up on First Try|We just bought th...| 2015-08-31|\n",
            "|         US|   11244387|R242C08MF9D1AH|B0000AXTID|     739769424|Kwik-Tek F-5R Pla...|        Outdoors|          5|            0|          0|   N|                Y|They go over an a...|I have these on m...| 2015-08-31|\n",
            "|         US|   20121211| R3RYG8TJTO4E2|B00IFHFJXI|     984009972|Ivation Portable ...|        Outdoors|          5|            0|          0|   N|                Y|Greatest Item I b...|This is the best ...| 2015-08-31|\n",
            "|         US|   25657249|R3IKH1DNY0CP9F|B00KFILTWU|     405521681|GreenInsync Repla...|        Outdoors|          2|            0|          0|   N|                Y|I received this p...|I received this p...| 2015-08-31|\n",
            "+-----------+-----------+--------------+----------+--------------+--------------------+----------------+-----------+-------------+-----------+----+-----------------+--------------------+--------------------+-----------+\n",
            "only showing top 20 rows\n",
            "\n"
          ],
          "name": "stdout"
        }
      ]
    },
    {
      "cell_type": "code",
      "metadata": {
        "id": "dTz6YVvUDzvV"
      },
      "source": [
        "from pyspark.sql.functions import to_date, col\n",
        "# Read in the Review dataset as a DataFrame"
      ],
      "execution_count": 6,
      "outputs": []
    },
    {
      "cell_type": "code",
      "metadata": {
        "colab": {
          "base_uri": "https://localhost:8080/"
        },
        "id": "U9MaYTSw6fN6",
        "outputId": "ea3bbd4d-8544-4467-9246-620abafe473c"
      },
      "source": [
        "# Create the vine_table. DataFrame\n",
        "vine_table_df = df.select(['review_id', 'star_rating', 'helpful_votes', 'total_votes', 'vine', 'verified_purchase'])\n",
        "vine_table_df.show()"
      ],
      "execution_count": 7,
      "outputs": [
        {
          "output_type": "stream",
          "text": [
            "+--------------+-----------+-------------+-----------+----+-----------------+\n",
            "|     review_id|star_rating|helpful_votes|total_votes|vine|verified_purchase|\n",
            "+--------------+-----------+-------------+-----------+----+-----------------+\n",
            "|R35T75OLUGHL5C|          4|            0|          0|   N|                Y|\n",
            "|R2BV735O46BN33|          5|            0|          0|   N|                Y|\n",
            "|R2NBEUGPQQGXP1|          4|            0|          0|   N|                Y|\n",
            "|R17LLAOJ8ITK0S|          3|            1|          1|   N|                Y|\n",
            "|R39PEQBT5ISEF4|          1|            0|          0|   N|                Y|\n",
            "|R3GNM3SU9VHJFT|          4|            1|          1|   N|                Y|\n",
            "| R2Y81OP0EK467|          5|            0|          0|   N|                Y|\n",
            "|R2LFGSI6HAYH5F|          5|            1|          1|   N|                Y|\n",
            "|R297G6ED1IQO7W|          5|            1|          1|   N|                Y|\n",
            "| RE27RFC6101N6|          5|            0|          0|   N|                Y|\n",
            "|R3BPDME6E94W8Z|          5|            0|          0|   N|                Y|\n",
            "|R2P08O1RILUOX3|          3|            0|          0|   N|                Y|\n",
            "|R37CVAB03PTDVI|          5|            0|          1|   N|                Y|\n",
            "| RAWNWOGXPCPMD|          5|            0|          0|   N|                Y|\n",
            "| R5DYGP6ASX77M|          5|            0|          0|   N|                Y|\n",
            "|R1O0SAOOGF2KG7|          4|            0|          0|   N|                Y|\n",
            "|R35NJUT0U3MU3V|          5|            0|          0|   N|                Y|\n",
            "|R242C08MF9D1AH|          5|            0|          0|   N|                Y|\n",
            "| R3RYG8TJTO4E2|          5|            0|          0|   N|                Y|\n",
            "|R3IKH1DNY0CP9F|          2|            0|          0|   N|                Y|\n",
            "+--------------+-----------+-------------+-----------+----+-----------------+\n",
            "only showing top 20 rows\n",
            "\n"
          ],
          "name": "stdout"
        }
      ]
    },
    {
      "cell_type": "code",
      "metadata": {
        "colab": {
          "base_uri": "https://localhost:8080/"
        },
        "id": "RVrR7jE74_gb",
        "outputId": "c6b50484-cb1b-4751-bc2d-361aa839a7f3"
      },
      "source": [
        "# 1. Filter the data and create a new DataFrame or table to retrieve all the rows where \n",
        "# the total_votes count is equal to or greater than 20 to pick reviews that are more likely \n",
        "# to be helpful and to avoid having division by zero errors later on.\n",
        "new_df = vine_table_df.filter(col('total_votes') >= 20)\n",
        "new_df.show()"
      ],
      "execution_count": 8,
      "outputs": [
        {
          "output_type": "stream",
          "text": [
            "+--------------+-----------+-------------+-----------+----+-----------------+\n",
            "|     review_id|star_rating|helpful_votes|total_votes|vine|verified_purchase|\n",
            "+--------------+-----------+-------------+-----------+----+-----------------+\n",
            "|R2FP3U4NHNFNL2|          5|           25|         29|   N|                Y|\n",
            "|R1UUK1977O38MU|          5|           31|         31|   N|                Y|\n",
            "| RXO216LWUDV6O|          3|           29|         31|   N|                Y|\n",
            "|R3NMJF7EBMM19V|          3|           26|         27|   N|                Y|\n",
            "|R2ZY0ZBDUO0XUY|          3|           20|         21|   N|                Y|\n",
            "| RBDVHX7PMQEKM|          5|           35|         39|   N|                Y|\n",
            "| RGO3KSDXYWTGU|          4|           26|         26|   N|                Y|\n",
            "|R2O4P39D0ALCQK|          2|           14|         43|   N|                Y|\n",
            "|R1E1PQGHWGO3Q1|          1|           89|         96|   N|                Y|\n",
            "|R1XOXXUVYZEDJB|          5|           22|         22|   N|                Y|\n",
            "| R7SHITUU5UG9U|          5|           27|         27|   N|                Y|\n",
            "|R230TLHU91M5Y3|          4|           21|         21|   N|                Y|\n",
            "| RHR5MKO23K9TU|          5|           26|         30|   N|                Y|\n",
            "|R1HGK3TCY161D7|          5|           52|         55|   N|                N|\n",
            "|R340QYAVNZZHJA|          4|           25|         25|   N|                N|\n",
            "|R2F1UVQK0JL4QH|          3|           20|         20|   N|                Y|\n",
            "|R1N21UY546VWMN|          2|           48|         50|   N|                Y|\n",
            "|R1E4L344EK0ZOT|          5|           20|         26|   N|                N|\n",
            "|R282QUZDDJW3ON|          4|           45|         49|   N|                Y|\n",
            "|R3H5T3T7QY3ZL2|          5|          247|        263|   N|                Y|\n",
            "+--------------+-----------+-------------+-----------+----+-----------------+\n",
            "only showing top 20 rows\n",
            "\n"
          ],
          "name": "stdout"
        }
      ]
    },
    {
      "cell_type": "code",
      "metadata": {
        "colab": {
          "base_uri": "https://localhost:8080/"
        },
        "id": "7_HXJIUp9HtB",
        "outputId": "f58018a9-cb0e-4031-fca9-e52ba8e72cc6"
      },
      "source": [
        "# 2. Filter the new DataFrame or table created in Step 1 and create a new DataFrame or \n",
        "# table to retrieve all the rows where the number of helpful_votes divided by total_votes \n",
        "# is equal to or greater than 50%.\n",
        "new_df_higher_50 = new_df[new_df[\"helpful_votes\"] / new_df[\"total_votes\"] >=0.5] \n",
        "new_df_higher_50.show()\n",
        "\n",
        "# To verify, performed the code below:\n",
        "new_df_higher_50.withColumn(\"my_column\", new_df[\"helpful_votes\"] / new_df[\"total_votes\"]).show()\n"
      ],
      "execution_count": 9,
      "outputs": [
        {
          "output_type": "stream",
          "text": [
            "+--------------+-----------+-------------+-----------+----+-----------------+\n",
            "|     review_id|star_rating|helpful_votes|total_votes|vine|verified_purchase|\n",
            "+--------------+-----------+-------------+-----------+----+-----------------+\n",
            "|R2FP3U4NHNFNL2|          5|           25|         29|   N|                Y|\n",
            "|R1UUK1977O38MU|          5|           31|         31|   N|                Y|\n",
            "| RXO216LWUDV6O|          3|           29|         31|   N|                Y|\n",
            "|R3NMJF7EBMM19V|          3|           26|         27|   N|                Y|\n",
            "|R2ZY0ZBDUO0XUY|          3|           20|         21|   N|                Y|\n",
            "| RBDVHX7PMQEKM|          5|           35|         39|   N|                Y|\n",
            "| RGO3KSDXYWTGU|          4|           26|         26|   N|                Y|\n",
            "|R1E1PQGHWGO3Q1|          1|           89|         96|   N|                Y|\n",
            "|R1XOXXUVYZEDJB|          5|           22|         22|   N|                Y|\n",
            "| R7SHITUU5UG9U|          5|           27|         27|   N|                Y|\n",
            "|R230TLHU91M5Y3|          4|           21|         21|   N|                Y|\n",
            "| RHR5MKO23K9TU|          5|           26|         30|   N|                Y|\n",
            "|R1HGK3TCY161D7|          5|           52|         55|   N|                N|\n",
            "|R340QYAVNZZHJA|          4|           25|         25|   N|                N|\n",
            "|R2F1UVQK0JL4QH|          3|           20|         20|   N|                Y|\n",
            "|R1N21UY546VWMN|          2|           48|         50|   N|                Y|\n",
            "|R1E4L344EK0ZOT|          5|           20|         26|   N|                N|\n",
            "|R282QUZDDJW3ON|          4|           45|         49|   N|                Y|\n",
            "|R3H5T3T7QY3ZL2|          5|          247|        263|   N|                Y|\n",
            "|R3W1A1P95IIGHX|          5|           23|         25|   N|                N|\n",
            "+--------------+-----------+-------------+-----------+----+-----------------+\n",
            "only showing top 20 rows\n",
            "\n",
            "+--------------+-----------+-------------+-----------+----+-----------------+------------------+\n",
            "|     review_id|star_rating|helpful_votes|total_votes|vine|verified_purchase|         my_column|\n",
            "+--------------+-----------+-------------+-----------+----+-----------------+------------------+\n",
            "|R2FP3U4NHNFNL2|          5|           25|         29|   N|                Y|0.8620689655172413|\n",
            "|R1UUK1977O38MU|          5|           31|         31|   N|                Y|               1.0|\n",
            "| RXO216LWUDV6O|          3|           29|         31|   N|                Y|0.9354838709677419|\n",
            "|R3NMJF7EBMM19V|          3|           26|         27|   N|                Y|0.9629629629629629|\n",
            "|R2ZY0ZBDUO0XUY|          3|           20|         21|   N|                Y|0.9523809523809523|\n",
            "| RBDVHX7PMQEKM|          5|           35|         39|   N|                Y|0.8974358974358975|\n",
            "| RGO3KSDXYWTGU|          4|           26|         26|   N|                Y|               1.0|\n",
            "|R1E1PQGHWGO3Q1|          1|           89|         96|   N|                Y|0.9270833333333334|\n",
            "|R1XOXXUVYZEDJB|          5|           22|         22|   N|                Y|               1.0|\n",
            "| R7SHITUU5UG9U|          5|           27|         27|   N|                Y|               1.0|\n",
            "|R230TLHU91M5Y3|          4|           21|         21|   N|                Y|               1.0|\n",
            "| RHR5MKO23K9TU|          5|           26|         30|   N|                Y|0.8666666666666667|\n",
            "|R1HGK3TCY161D7|          5|           52|         55|   N|                N|0.9454545454545454|\n",
            "|R340QYAVNZZHJA|          4|           25|         25|   N|                N|               1.0|\n",
            "|R2F1UVQK0JL4QH|          3|           20|         20|   N|                Y|               1.0|\n",
            "|R1N21UY546VWMN|          2|           48|         50|   N|                Y|              0.96|\n",
            "|R1E4L344EK0ZOT|          5|           20|         26|   N|                N|0.7692307692307693|\n",
            "|R282QUZDDJW3ON|          4|           45|         49|   N|                Y|0.9183673469387755|\n",
            "|R3H5T3T7QY3ZL2|          5|          247|        263|   N|                Y|0.9391634980988594|\n",
            "|R3W1A1P95IIGHX|          5|           23|         25|   N|                N|              0.92|\n",
            "+--------------+-----------+-------------+-----------+----+-----------------+------------------+\n",
            "only showing top 20 rows\n",
            "\n"
          ],
          "name": "stdout"
        }
      ]
    },
    {
      "cell_type": "code",
      "metadata": {
        "colab": {
          "base_uri": "https://localhost:8080/"
        },
        "id": "Kbh6sZWnAd2H",
        "outputId": "068f5263-b175-4153-ceff-73e5488042f7"
      },
      "source": [
        "# 3. Filter the DataFrame or table created in Step 2, and create a new DataFrame or \n",
        "# table that retrieves all the rows where a review was written as part of the Vine program (paid), vine == 'Y'.\n",
        "new_df_vine_paid = new_df_higher_50[new_df_higher_50[\"vine\"] == 'Y']\n",
        "new_df_vine_paid.show()\n"
      ],
      "execution_count": 10,
      "outputs": [
        {
          "output_type": "stream",
          "text": [
            "+--------------+-----------+-------------+-----------+----+-----------------+\n",
            "|     review_id|star_rating|helpful_votes|total_votes|vine|verified_purchase|\n",
            "+--------------+-----------+-------------+-----------+----+-----------------+\n",
            "|R3KPC0NBUDASX3|          5|           25|         25|   Y|                N|\n",
            "|R119P2A95GGXX4|          5|           26|         28|   Y|                N|\n",
            "|R1HKIRME8AJ89Z|          5|           79|         82|   Y|                N|\n",
            "|R3FY3GMBGOBR22|          5|           12|         20|   Y|                N|\n",
            "|R15KH3FBSVYGBU|          5|           32|         37|   Y|                N|\n",
            "|R22XZEQLVLWW49|          5|           28|         33|   Y|                N|\n",
            "|R2OIQYVAL9D63R|          4|           59|         65|   Y|                N|\n",
            "|R1W3KCDHM6BMZT|          4|           37|         38|   Y|                N|\n",
            "|R3KDMPS96IJ10R|          2|           15|         21|   Y|                N|\n",
            "|R1XWEI58A7VKLB|          5|          123|        128|   Y|                N|\n",
            "|R1CJWM6CMWKSA1|          4|           31|         33|   Y|                N|\n",
            "|R39I3FUDBKZM3Y|          5|           34|         38|   Y|                N|\n",
            "|R32LU0KSL7QWSF|          5|           35|         37|   Y|                N|\n",
            "|R2LGDXO3MG2WQW|          5|           37|         41|   Y|                N|\n",
            "|R16AVI2NTYWLKI|          5|           31|         33|   Y|                N|\n",
            "|R12K0ITIV6AYM3|          5|           34|         34|   Y|                N|\n",
            "| R9ILZLNNK93CO|          5|           38|         39|   Y|                N|\n",
            "|R1CS8VSI1KSR1P|          5|           21|         22|   Y|                N|\n",
            "|R186TCIH8TEGPY|          5|           40|         43|   Y|                N|\n",
            "| R3GBQRR2GY4SP|          4|          119|        125|   Y|                N|\n",
            "+--------------+-----------+-------------+-----------+----+-----------------+\n",
            "only showing top 20 rows\n",
            "\n"
          ],
          "name": "stdout"
        }
      ]
    },
    {
      "cell_type": "code",
      "metadata": {
        "colab": {
          "base_uri": "https://localhost:8080/"
        },
        "id": "ktfFOAYbMOlx",
        "outputId": "13d2b52d-8b1f-466f-9646-14997727a48e"
      },
      "source": [
        "# Checking the value types\n",
        "new_df_vine_paid.dtypes"
      ],
      "execution_count": 26,
      "outputs": [
        {
          "output_type": "execute_result",
          "data": {
            "text/plain": [
              "[('review_id', 'string'),\n",
              " ('star_rating', 'int'),\n",
              " ('helpful_votes', 'int'),\n",
              " ('total_votes', 'int'),\n",
              " ('vine', 'string'),\n",
              " ('verified_purchase', 'string')]"
            ]
          },
          "metadata": {
            "tags": []
          },
          "execution_count": 26
        }
      ]
    },
    {
      "cell_type": "code",
      "metadata": {
        "colab": {
          "base_uri": "https://localhost:8080/"
        },
        "id": "7tdUlFu1Diqc",
        "outputId": "eab45a7b-05e6-4de5-ef77-a62f6ee3cf65"
      },
      "source": [
        "# 4. Repeat Step 3, but this time retrieve all the rows where the review was not part of the \n",
        "# Vine program (unpaid), vine == 'N'.\n",
        "new_df_vine_unpaid = new_df_higher_50[new_df_higher_50[\"vine\"] == 'N']\n",
        "new_df_vine_unpaid.show()"
      ],
      "execution_count": 11,
      "outputs": [
        {
          "output_type": "stream",
          "text": [
            "+--------------+-----------+-------------+-----------+----+-----------------+\n",
            "|     review_id|star_rating|helpful_votes|total_votes|vine|verified_purchase|\n",
            "+--------------+-----------+-------------+-----------+----+-----------------+\n",
            "|R2FP3U4NHNFNL2|          5|           25|         29|   N|                Y|\n",
            "|R1UUK1977O38MU|          5|           31|         31|   N|                Y|\n",
            "| RXO216LWUDV6O|          3|           29|         31|   N|                Y|\n",
            "|R3NMJF7EBMM19V|          3|           26|         27|   N|                Y|\n",
            "|R2ZY0ZBDUO0XUY|          3|           20|         21|   N|                Y|\n",
            "| RBDVHX7PMQEKM|          5|           35|         39|   N|                Y|\n",
            "| RGO3KSDXYWTGU|          4|           26|         26|   N|                Y|\n",
            "|R1E1PQGHWGO3Q1|          1|           89|         96|   N|                Y|\n",
            "|R1XOXXUVYZEDJB|          5|           22|         22|   N|                Y|\n",
            "| R7SHITUU5UG9U|          5|           27|         27|   N|                Y|\n",
            "|R230TLHU91M5Y3|          4|           21|         21|   N|                Y|\n",
            "| RHR5MKO23K9TU|          5|           26|         30|   N|                Y|\n",
            "|R1HGK3TCY161D7|          5|           52|         55|   N|                N|\n",
            "|R340QYAVNZZHJA|          4|           25|         25|   N|                N|\n",
            "|R2F1UVQK0JL4QH|          3|           20|         20|   N|                Y|\n",
            "|R1N21UY546VWMN|          2|           48|         50|   N|                Y|\n",
            "|R1E4L344EK0ZOT|          5|           20|         26|   N|                N|\n",
            "|R282QUZDDJW3ON|          4|           45|         49|   N|                Y|\n",
            "|R3H5T3T7QY3ZL2|          5|          247|        263|   N|                Y|\n",
            "|R3W1A1P95IIGHX|          5|           23|         25|   N|                N|\n",
            "+--------------+-----------+-------------+-----------+----+-----------------+\n",
            "only showing top 20 rows\n",
            "\n"
          ],
          "name": "stdout"
        }
      ]
    },
    {
      "cell_type": "code",
      "metadata": {
        "colab": {
          "base_uri": "https://localhost:8080/"
        },
        "id": "UyFXzLEaAHWN",
        "outputId": "28b8817b-13b7-401c-ab48-8637b1027bef"
      },
      "source": [
        "new_df_vine_unpaid.describe().show()"
      ],
      "execution_count": 12,
      "outputs": [
        {
          "output_type": "stream",
          "text": [
            "+-------+--------------+------------------+-----------------+------------------+-----+-----------------+\n",
            "|summary|     review_id|       star_rating|    helpful_votes|       total_votes| vine|verified_purchase|\n",
            "+-------+--------------+------------------+-----------------+------------------+-----+-----------------+\n",
            "|  count|         39869|             39869|            39869|             39869|39869|            39869|\n",
            "|   mean|          null|3.9113346208833932|51.20063207002934|55.641676490506406| null|             null|\n",
            "| stddev|          null|1.4341466311949516|81.44929873777852| 84.96788842597194| null|             null|\n",
            "|    min|R1005012T6NUTX|                 1|               10|                20|    N|                N|\n",
            "|    max| RZZY3CIGHAJBL|                 5|             2703|              2751|    N|                Y|\n",
            "+-------+--------------+------------------+-----------------+------------------+-----+-----------------+\n",
            "\n"
          ],
          "name": "stdout"
        }
      ]
    },
    {
      "cell_type": "code",
      "metadata": {
        "colab": {
          "base_uri": "https://localhost:8080/"
        },
        "id": "aNFIX0N_GitB",
        "outputId": "98c4219d-edf6-4369-8df2-d7c42499e6d5"
      },
      "source": [
        "# 5. Determine the total number of reviews: \n",
        "total_number_of_reviews = vine_table_df.count()\n",
        "total_number_of_reviews\n"
      ],
      "execution_count": 14,
      "outputs": [
        {
          "output_type": "execute_result",
          "data": {
            "text/plain": [
              "2302401"
            ]
          },
          "metadata": {
            "tags": []
          },
          "execution_count": 14
        }
      ]
    },
    {
      "cell_type": "code",
      "metadata": {
        "colab": {
          "base_uri": "https://localhost:8080/"
        },
        "id": "ZgUqK28GJ1Uf",
        "outputId": "a27a2acf-d138-48ec-d07e-759dc9afc225"
      },
      "source": [
        "# The number of 5-star reviews:\n",
        "five_star = vine_table_df[vine_table_df[\"star_rating\"] == 5].count()\n",
        "five_star"
      ],
      "execution_count": 15,
      "outputs": [
        {
          "output_type": "execute_result",
          "data": {
            "text/plain": [
              "1434884"
            ]
          },
          "metadata": {
            "tags": []
          },
          "execution_count": 15
        }
      ]
    },
    {
      "cell_type": "code",
      "metadata": {
        "colab": {
          "base_uri": "https://localhost:8080/"
        },
        "id": "9YGXbMTALp0t",
        "outputId": "505aade1-c3e0-49f1-a7dd-41d456c583c4"
      },
      "source": [
        "# The percentage of 5-star reviews for the paid review:\n",
        "percent_five_star_paid = new_df_vine_paid[new_df_vine_paid[\"star_rating\"] == 5].count() / new_df_vine_paid.count()\n",
        "percent_five_star_paid"
      ],
      "execution_count": 16,
      "outputs": [
        {
          "output_type": "execute_result",
          "data": {
            "text/plain": [
              "0.5233644859813084"
            ]
          },
          "metadata": {
            "tags": []
          },
          "execution_count": 16
        }
      ]
    },
    {
      "cell_type": "code",
      "metadata": {
        "colab": {
          "base_uri": "https://localhost:8080/"
        },
        "id": "LsKLvfkjQDPU",
        "outputId": "899c0fde-e2b7-44fa-bfb9-0bb002c97576"
      },
      "source": [
        "# The percentage of 5-star reviews for the unpaid review:\n",
        "percent_five_star_unpaid = new_df_vine_unpaid[new_df_vine_unpaid[\"star_rating\"] == 5].count() / new_df_vine_unpaid.count()\n",
        "percent_five_star_unpaid"
      ],
      "execution_count": 27,
      "outputs": [
        {
          "output_type": "execute_result",
          "data": {
            "text/plain": [
              "0.5268504351751988"
            ]
          },
          "metadata": {
            "tags": []
          },
          "execution_count": 27
        }
      ]
    },
    {
      "cell_type": "code",
      "metadata": {
        "colab": {
          "base_uri": "https://localhost:8080/",
          "height": 78
        },
        "id": "Ya2x4ZgaQ-Qj",
        "outputId": "dda9ac4d-d3fb-4c14-81fc-64c9b0655f48"
      },
      "source": [
        "import pandas as pd\n",
        "\n",
        "summary_df = pd.DataFrame({\n",
        "    \"5_star_percentage\": [five_star / total_number_of_reviews],\n",
        "    \"paid_percentage\": [percent_five_star_paid],\n",
        "    \"unpaid_percentage\" : [percent_five_star_unpaid]\n",
        "})\n",
        "\n",
        "summary_df\n"
      ],
      "execution_count": 28,
      "outputs": [
        {
          "output_type": "execute_result",
          "data": {
            "text/html": [
              "<div>\n",
              "<style scoped>\n",
              "    .dataframe tbody tr th:only-of-type {\n",
              "        vertical-align: middle;\n",
              "    }\n",
              "\n",
              "    .dataframe tbody tr th {\n",
              "        vertical-align: top;\n",
              "    }\n",
              "\n",
              "    .dataframe thead th {\n",
              "        text-align: right;\n",
              "    }\n",
              "</style>\n",
              "<table border=\"1\" class=\"dataframe\">\n",
              "  <thead>\n",
              "    <tr style=\"text-align: right;\">\n",
              "      <th></th>\n",
              "      <th>5_star_percentage</th>\n",
              "      <th>paid_percentage</th>\n",
              "      <th>unpaid_percentage</th>\n",
              "    </tr>\n",
              "  </thead>\n",
              "  <tbody>\n",
              "    <tr>\n",
              "      <th>0</th>\n",
              "      <td>0.623212</td>\n",
              "      <td>0.523364</td>\n",
              "      <td>0.52685</td>\n",
              "    </tr>\n",
              "  </tbody>\n",
              "</table>\n",
              "</div>"
            ],
            "text/plain": [
              "   5_star_percentage  paid_percentage  unpaid_percentage\n",
              "0           0.623212         0.523364            0.52685"
            ]
          },
          "metadata": {
            "tags": []
          },
          "execution_count": 28
        }
      ]
    },
    {
      "cell_type": "code",
      "metadata": {
        "colab": {
          "base_uri": "https://localhost:8080/"
        },
        "id": "ewIIDxCex7rD",
        "outputId": "d2b717bc-f8ca-4ee5-c1db-d49e60c6628a"
      },
      "source": [
        "# The total vine reviews:\n",
        "total_vine_reviews = new_df_vine_paid.count()\n",
        "total_vine_reviews"
      ],
      "execution_count": 34,
      "outputs": [
        {
          "output_type": "execute_result",
          "data": {
            "text/plain": [
              "107"
            ]
          },
          "metadata": {
            "tags": []
          },
          "execution_count": 34
        }
      ]
    },
    {
      "cell_type": "code",
      "metadata": {
        "colab": {
          "base_uri": "https://localhost:8080/"
        },
        "id": "5BNFwAOpyNb9",
        "outputId": "fd2da6dd-78f9-46f7-b161-beaf93f152a7"
      },
      "source": [
        "# The total non-vine reviews:\n",
        "total_non_vine_reviews = new_df_vine_unpaid.count()\n",
        "total_non_vine_reviews"
      ],
      "execution_count": 35,
      "outputs": [
        {
          "output_type": "execute_result",
          "data": {
            "text/plain": [
              "39869"
            ]
          },
          "metadata": {
            "tags": []
          },
          "execution_count": 35
        }
      ]
    },
    {
      "cell_type": "code",
      "metadata": {
        "colab": {
          "base_uri": "https://localhost:8080/"
        },
        "id": "4DDl8bpLNtdW",
        "outputId": "8f12e5c8-6b39-4a98-9793-30d6c3cf5b13"
      },
      "source": [
        "# The number of non-vine 5-star reviews:\n",
        "non_vine_five_stars = new_df_vine_unpaid[new_df_vine_unpaid[\"star_rating\"] == 5].count()\n",
        "print(non_vine_five_stars)"
      ],
      "execution_count": 32,
      "outputs": [
        {
          "output_type": "stream",
          "text": [
            "21005\n"
          ],
          "name": "stdout"
        }
      ]
    },
    {
      "cell_type": "code",
      "metadata": {
        "colab": {
          "base_uri": "https://localhost:8080/"
        },
        "id": "friuMHpDOqZG",
        "outputId": "b22d311c-1f70-4750-b202-e9ad1b01fde2"
      },
      "source": [
        "# The number of vine 5-star reviews:\n",
        "vine_five_stars = new_df_vine_paid[new_df_vine_paid[\"star_rating\"] == 5].count()\n",
        "print(vine_five_stars)"
      ],
      "execution_count": 33,
      "outputs": [
        {
          "output_type": "stream",
          "text": [
            "56\n"
          ],
          "name": "stdout"
        }
      ]
    }
  ]
}